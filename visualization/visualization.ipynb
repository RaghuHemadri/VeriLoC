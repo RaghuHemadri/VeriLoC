{
 "cells": [
  {
   "cell_type": "code",
   "execution_count": null,
   "metadata": {},
   "outputs": [],
   "source": [
    "from dataset import VerilogDataset\n",
    "\n",
    "from smooth_gradient import SmoothGradient\n",
    "from integrated_gradient import IntegratedGradient\n",
    "\n",
    "import torch\n",
    "from torch import nn\n",
    "from torch.utils.data import DataLoader\n",
    "\n",
    "from IPython.display import display, HTML\n",
    "\n",
    "from transformers import AutoModelForCausalLM, AutoTokenizer"
   ]
  },
  {
   "cell_type": "code",
   "execution_count": 2,
   "metadata": {},
   "outputs": [],
   "source": [
    "def read_file(file_path, encoding='iso-8859-1'):\n",
    "    \"\"\"Read the content of a file.\"\"\"\n",
    "    with open(file_path, 'r', encoding=encoding) as file:\n",
    "        return file.read()\n",
    "\n",
    "def remove_comments(code, comment_symbol='//'):\n",
    "    \"\"\"Remove comments from the code.\"\"\"\n",
    "    lines = code.split('\\n')\n",
    "    cleaned_lines = [line.split(comment_symbol)[0] for line in lines]\n",
    "    return '\\n'.join(cleaned_lines)\n",
    "\n",
    "def remove_multiple_newlines(code):\n",
    "    \"\"\"Remove multiple consecutive newlines from the code.\"\"\"\n",
    "    lines = code.split('\\n')\n",
    "    cleaned_lines = []\n",
    "    previous_line_empty = False\n",
    "    for line in lines:\n",
    "        if line.strip() == '':\n",
    "            if not previous_line_empty:\n",
    "                cleaned_lines.append(line)\n",
    "            previous_line_empty = True\n",
    "        else:\n",
    "            cleaned_lines.append(line)\n",
    "            previous_line_empty = False\n",
    "    return '\\n'.join(cleaned_lines)\n",
    "\n",
    "def preprocess_code(code, preprocessors):\n",
    "    \"\"\"Apply a list of preprocessors to the code.\"\"\"\n",
    "    # for preprocessor in preprocessors:\n",
    "    #     code = preprocessor(code)\n",
    "    # return code.strip()\n",
    "    return code"
   ]
  },
  {
   "cell_type": "code",
   "execution_count": 3,
   "metadata": {},
   "outputs": [],
   "source": [
    "preprocessors = [remove_comments, remove_multiple_newlines]"
   ]
  },
  {
   "cell_type": "code",
   "execution_count": null,
   "metadata": {},
   "outputs": [
    {
     "data": {
      "application/vnd.jupyter.widget-view+json": {
       "model_id": "03e890fae0384bda90a39119c03c851e",
       "version_major": 2,
       "version_minor": 0
      },
      "text/plain": [
       "Loading checkpoint shards:   0%|          | 0/6 [00:00<?, ?it/s]"
      ]
     },
     "metadata": {},
     "output_type": "display_data"
    }
   ],
   "source": [
    "model_name = 'ajn313/cl-verilog-1.0'\n",
    "hugging_face_token = \"your huggingface token\"\n",
    "\n",
    "tokenizer = AutoTokenizer.from_pretrained(\n",
    "    model_name,\n",
    "    padding_side=\"left\",\n",
    "    add_eos_token=True,\n",
    "    add_bos_token=True,\n",
    "    token = hugging_face_token\n",
    ")\n",
    "tokenizer.pad_token = tokenizer.eos_token\n",
    "\n",
    "model = AutoModelForCausalLM.from_pretrained(model_name, torch_dtype=torch.float16, token = hugging_face_token).to('cuda')"
   ]
  },
  {
   "cell_type": "code",
   "execution_count": null,
   "metadata": {},
   "outputs": [],
   "source": [
    "verilog_file_path = \"test file path\"\n",
    "verilog_code = read_file(verilog_file_path)\n",
    "verilog_code_lines = verilog_code.split('\\n')"
   ]
  },
  {
   "cell_type": "code",
   "execution_count": 14,
   "metadata": {},
   "outputs": [],
   "source": [
    "start = 35\n",
    "end = 41\n",
    "line_wise = True"
   ]
  },
  {
   "cell_type": "code",
   "execution_count": 15,
   "metadata": {},
   "outputs": [],
   "source": [
    "torch.cuda.empty_cache()"
   ]
  },
  {
   "cell_type": "code",
   "execution_count": 22,
   "metadata": {},
   "outputs": [],
   "source": [
    "coloder_string = []\n",
    "if line_wise:\n",
    "    verilog_codes = verilog_code_lines[start:end]\n",
    "    for verilog_code in verilog_codes:\n",
    "        test_example = [verilog_code]\n",
    "        test_example = [verilog_code.strip()]\n",
    "        batch_size = 1\n",
    "    \n",
    "        test_dataset = VerilogDataset(\n",
    "            data_list=test_example,\n",
    "            tokenizer=tokenizer\n",
    "        )\n",
    "        \n",
    "        test_dataloader = DataLoader(\n",
    "            test_dataset,\n",
    "            batch_size=batch_size,\n",
    "            shuffle=False,\n",
    "        )\n",
    "    \n",
    "        inputs = tokenizer(verilog_code, return_tensors=\"pt\", padding=True).to('cuda')\n",
    "    \n",
    "        input_ids = inputs['input_ids']\n",
    "        attention_mask = inputs['attention_mask']\n",
    "    \n",
    "        tokens = [\n",
    "        tokenizer.convert_ids_to_tokens(input_ids_)\n",
    "        for input_ids_ in input_ids\n",
    "        ]\n",
    "    \n",
    "        smooth_grad = SmoothGradient(\n",
    "            model,\n",
    "            tokenizer, \n",
    "            show_progress=False,\n",
    "            num_steps=1000,\n",
    "            stdev = 0.001,\n",
    "        )\n",
    "        instances = smooth_grad.saliency_interpret(test_dataloader)\n",
    "        coloder_string.append(smooth_grad.colorize(instances[0]))\n",
    "else:\n",
    "    verilog_code = [code_line.strip() for code_line in verilog_code_lines[start:end]]\n",
    "    verilog_code = [\"\\n\".join(verilog_code)]\n",
    "    test_example = verilog_code\n",
    "    batch_size = 1\n",
    "\n",
    "    test_dataset = VerilogDataset(\n",
    "        data_list=test_example,\n",
    "        tokenizer=tokenizer\n",
    "    )\n",
    "    \n",
    "    test_dataloader = DataLoader(\n",
    "        test_dataset,\n",
    "        batch_size=batch_size,\n",
    "        shuffle=False,\n",
    "    )\n",
    "\n",
    "    inputs = tokenizer(verilog_code[0], return_tensors=\"pt\", padding=True).to('cuda')\n",
    "\n",
    "    input_ids = inputs['input_ids']\n",
    "    attention_mask = inputs['attention_mask']\n",
    "\n",
    "    tokens = [\n",
    "    tokenizer.convert_ids_to_tokens(input_ids_)\n",
    "    for input_ids_ in input_ids\n",
    "    ]\n",
    "\n",
    "    smooth_grad = SmoothGradient(\n",
    "        model,\n",
    "        tokenizer, \n",
    "        show_progress=False,\n",
    "        num_steps=1000,\n",
    "        stdev = 0.001,\n",
    "    )\n",
    "    instances = smooth_grad.saliency_interpret(test_dataloader)\n",
    "    coloder_string.append(smooth_grad.colorize(instances[0]))"
   ]
  },
  {
   "cell_type": "code",
   "execution_count": 23,
   "metadata": {},
   "outputs": [],
   "source": [
    "# integrated_grad = IntegratedGradient(\n",
    "#     model,\n",
    "#     tokenizer, \n",
    "#     show_progress=False,\n",
    "#     encoder=\"bert\",\n",
    "#     num_steps=100,\n",
    "#     _min = 0.001,\n",
    "#     _max = 10.0,\n",
    "# )\n",
    "# instances = integrated_grad.saliency_interpret(test_dataloader)"
   ]
  },
  {
   "cell_type": "code",
   "execution_count": 24,
   "metadata": {},
   "outputs": [
    {
     "data": {
      "text/html": [
       "<span style=\"color: black; background-color: #67000d\"></span><span style=\"color: black; background-color: #fff2eb\">&nbsp;&nbsp;assign</span><span style=\"color: black; background-color: #fdd1be\">&nbsp;&nbsp;id</span><span style=\"color: black; background-color: #fff0e8\">in</span><span style=\"color: black; background-color: #fca689\">&nbsp;&nbsp;</span><span style=\"color: black; background-color: #fee7db\">&nbsp;&nbsp;=</span><span style=\"color: black; background-color: #fca082\">&nbsp;&nbsp;{</span><span style=\"color: black; background-color: #ffefe8\">&nbsp;&nbsp;{</span><span style=\"color: black; background-color: #fc8565\">(</span><span style=\"color: black; background-color: #fee1d4\">m</span><span style=\"color: black; background-color: #fee7dc\">width</span><span style=\"color: black; background-color: #fff3ed\">-</span><span style=\"color: black; background-color: #fff5f0\">d</span><span style=\"color: black; background-color: #fedbcc\">width</span><span style=\"color: black; background-color: #fdc6b0\">){</span><span style=\"color: black; background-color: #fff4ee\">din</span><span style=\"color: black; background-color: #ffeee7\">[</span><span style=\"color: black; background-color: #fff2eb\">d</span><span style=\"color: black; background-color: #fff1ea\">width</span><span style=\"color: black; background-color: #ffeee7\">-</span><span style=\"color: black; background-color: #fff4ee\">1</span><span style=\"color: black; background-color: #fee5d9\">]</span><span style=\"color: black; background-color: #ffece3\">}},</span><span style=\"color: black; background-color: #ffede5\">&nbsp;&nbsp;din</span><span style=\"color: black; background-color: #fff3ed\">};</span><br><span style=\"color: black; background-color: #fff5f0\"></span><br><span style=\"color: black; background-color: #f75c41\"></span><span style=\"color: black; background-color: #67000d\">&nbsp;&nbsp;//</span><span style=\"color: black; background-color: #fee5d9\">&nbsp;&nbsp;generate</span><span style=\"color: black; background-color: #fff5f0\">&nbsp;&nbsp;multip</span><span style=\"color: black; background-color: #fcb095\">lier</span><span style=\"color: black; background-color: #fdd0bc\">&nbsp;&nbsp;structure</span><br><span style=\"color: black; background-color: #d72322\"></span><span style=\"color: black; background-color: #67000d\">&nbsp;&nbsp;always</span><span style=\"color: black; background-color: #fee3d7\">&nbsp;&nbsp;@</span><span style=\"color: black; background-color: #fff0e8\">(</span><span style=\"color: black; background-color: #fff5f0\">posed</span><span style=\"color: black; background-color: #fff0e9\">ge</span><span style=\"color: black; background-color: #fff5f0\">&nbsp;&nbsp;cl</span><span style=\"color: black; background-color: #fff4ee\">k</span><span style=\"color: black; background-color: #fff1ea\">)</span><br><span style=\"color: black; background-color: #67000d\"></span><span style=\"color: black; background-color: #d21f20\">&nbsp;&nbsp;if</span><span style=\"color: black; background-color: #ffefe8\">(</span><span style=\"color: black; background-color: #ffeee6\">ena</span><span style=\"color: black; background-color: #fff5f0\">)</span><br><span style=\"color: black; background-color: #67000d\"></span><span style=\"color: black; background-color: #fcab8f\">&nbsp;&nbsp;mult</span><span style=\"color: black; background-color: #fdd1be\">_</span><span style=\"color: black; background-color: #fff2ec\">res</span><span style=\"color: black; background-color: #fee3d7\">&nbsp;&nbsp;<=</span><span style=\"color: black; background-color: #fff5f0\">&nbsp;&nbsp;#</span><span style=\"color: black; background-color: #fff2eb\">1</span><span style=\"color: black; background-color: #ffeee7\">&nbsp;&nbsp;</span><span style=\"color: black; background-color: #fff5f0\">ico</span><span style=\"color: black; background-color: #ffeee7\">ef</span><span style=\"color: black; background-color: #fff2ec\">&nbsp;&nbsp;*</span><span style=\"color: black; background-color: #fff4ef\">&nbsp;&nbsp;id</span><span style=\"color: black; background-color: #fff5f0\">in</span><span style=\"color: black; background-color: #fff4ef\">;</span>"
      ],
      "text/plain": [
       "<IPython.core.display.HTML object>"
      ]
     },
     "metadata": {},
     "output_type": "display_data"
    }
   ],
   "source": [
    "coloder_string = \"<br>\".join(coloder_string)\n",
    "display(HTML(coloder_string))"
   ]
  },
  {
   "cell_type": "code",
   "execution_count": 25,
   "metadata": {},
   "outputs": [
    {
     "data": {
      "text/html": [
       "<span style=\"color: black; background-color: #67000d\"></span><span style=\"color: black; background-color: #fff2eb\">&nbsp;&nbsp;assign</span><span style=\"color: black; background-color: #fdd1be\">&nbsp;&nbsp;id</span><span style=\"color: black; background-color: #fff0e8\">in</span><span style=\"color: black; background-color: #fca689\">&nbsp;&nbsp;</span><span style=\"color: black; background-color: #fee7db\">&nbsp;&nbsp;=</span><span style=\"color: black; background-color: #fca082\">&nbsp;&nbsp;{</span><span style=\"color: black; background-color: #ffefe8\">&nbsp;&nbsp;{</span><span style=\"color: black; background-color: #fc8565\">(</span><span style=\"color: black; background-color: #fee1d4\">m</span><span style=\"color: black; background-color: #fee7dc\">width</span><span style=\"color: black; background-color: #fff3ed\">-</span><span style=\"color: black; background-color: #fff5f0\">d</span><span style=\"color: black; background-color: #fedbcc\">width</span><span style=\"color: black; background-color: #fdc6b0\">){</span><span style=\"color: black; background-color: #fff4ee\">din</span><span style=\"color: black; background-color: #ffeee7\">[</span><span style=\"color: black; background-color: #fff2eb\">d</span><span style=\"color: black; background-color: #fff1ea\">width</span><span style=\"color: black; background-color: #ffeee7\">-</span><span style=\"color: black; background-color: #fff4ee\">1</span><span style=\"color: black; background-color: #fee5d9\">]</span><span style=\"color: black; background-color: #ffece3\">}},</span><span style=\"color: black; background-color: #ffede5\">&nbsp;&nbsp;din</span><span style=\"color: black; background-color: #fff3ed\">};</span><br><span style=\"color: black; background-color: #fff5f0\"></span><br><span style=\"color: black; background-color: #f75c41\"></span><span style=\"color: black; background-color: #67000d\">&nbsp;&nbsp;//</span><span style=\"color: black; background-color: #fee5d9\">&nbsp;&nbsp;generate</span><span style=\"color: black; background-color: #fff5f0\">&nbsp;&nbsp;multip</span><span style=\"color: black; background-color: #fcb095\">lier</span><span style=\"color: black; background-color: #fdd0bc\">&nbsp;&nbsp;structure</span><br><span style=\"color: black; background-color: #d72322\"></span><span style=\"color: black; background-color: #67000d\">&nbsp;&nbsp;always</span><span style=\"color: black; background-color: #fee3d7\">&nbsp;&nbsp;@</span><span style=\"color: black; background-color: #fff0e8\">(</span><span style=\"color: black; background-color: #fff5f0\">posed</span><span style=\"color: black; background-color: #fff0e9\">ge</span><span style=\"color: black; background-color: #fff5f0\">&nbsp;&nbsp;cl</span><span style=\"color: black; background-color: #fff4ee\">k</span><span style=\"color: black; background-color: #fff1ea\">)</span><br><span style=\"color: black; background-color: #67000d\"></span><span style=\"color: black; background-color: #d21f20\">&nbsp;&nbsp;if</span><span style=\"color: black; background-color: #ffefe8\">(</span><span style=\"color: black; background-color: #ffeee6\">ena</span><span style=\"color: black; background-color: #fff5f0\">)</span><br><span style=\"color: black; background-color: #67000d\"></span><span style=\"color: black; background-color: #fcab8f\">&nbsp;&nbsp;mult</span><span style=\"color: black; background-color: #fdd1be\">_</span><span style=\"color: black; background-color: #fff2ec\">res</span><span style=\"color: black; background-color: #fee3d7\">&nbsp;&nbsp;<=</span><span style=\"color: black; background-color: #fff5f0\">&nbsp;&nbsp;#</span><span style=\"color: black; background-color: #fff2eb\">1</span><span style=\"color: black; background-color: #ffeee7\">&nbsp;&nbsp;</span><span style=\"color: black; background-color: #fff5f0\">ico</span><span style=\"color: black; background-color: #ffeee7\">ef</span><span style=\"color: black; background-color: #fff2ec\">&nbsp;&nbsp;*</span><span style=\"color: black; background-color: #fff4ef\">&nbsp;&nbsp;id</span><span style=\"color: black; background-color: #fff5f0\">in</span><span style=\"color: black; background-color: #fff4ef\">;</span>"
      ],
      "text/plain": [
       "<IPython.core.display.HTML object>"
      ]
     },
     "execution_count": 25,
     "metadata": {},
     "output_type": "execute_result"
    }
   ],
   "source": [
    "HTML(coloder_string)"
   ]
  },
  {
   "cell_type": "code",
   "execution_count": 27,
   "metadata": {},
   "outputs": [
    {
     "name": "stdout",
     "output_type": "stream",
     "text": [
      "\tassign idin  = { {(mwidth-dwidth){din[dwidth-1]}}, din};\n",
      "\n",
      "\t// generate multiplier structure\n",
      "\talways @(posedge clk)\n",
      "\t  if(ena)\n",
      "\t    mult_res <= #1 icoef * idin;\n"
     ]
    }
   ],
   "source": [
    "print(\"\\n\".join(verilog_code_lines[start:end]))"
   ]
  }
 ],
 "metadata": {
  "kernelspec": {
   "display_name": "Python 3 (ipykernel)",
   "language": "python",
   "name": "python3"
  },
  "language_info": {
   "codemirror_mode": {
    "name": "ipython",
    "version": 3
   },
   "file_extension": ".py",
   "mimetype": "text/x-python",
   "name": "python",
   "nbconvert_exporter": "python",
   "pygments_lexer": "ipython3",
   "version": "3.12.6"
  }
 },
 "nbformat": 4,
 "nbformat_minor": 4
}
